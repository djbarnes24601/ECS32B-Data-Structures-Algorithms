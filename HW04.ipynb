{
 "cells": [
  {
   "cell_type": "markdown",
   "metadata": {},
   "source": [
    "### Problem 1"
   ]
  },
  {
   "cell_type": "raw",
   "metadata": {},
   "source": [
    "Write a recursive function called smallest that given a non-empty Python list, returns the smallest element in the list."
   ]
  },
  {
   "cell_type": "code",
   "execution_count": 85,
   "metadata": {},
   "outputs": [],
   "source": [
    "def smallest(plst):\n",
    "    if len(plst) == 1:\n",
    "        return plst[0]\n",
    "    if len(plst) <= 2:\n",
    "        return int(str(plst[0]))\n",
    "    else:\n",
    "        plst.sort(reverse = True)\n",
    "        plst = plst.pop()\n",
    "        return smallest(str(plst))"
   ]
  },
  {
   "cell_type": "code",
   "execution_count": 81,
   "metadata": {},
   "outputs": [],
   "source": [
    "lst1 = [5,9,2,4]\n",
    "lst2 = [4]\n",
    "lst3 = [2,4,6,19, -3]\n",
    "lst4 = [5,9,4,4]"
   ]
  },
  {
   "cell_type": "code",
   "execution_count": 83,
   "metadata": {},
   "outputs": [
    {
     "name": "stdout",
     "output_type": "stream",
     "text": [
      "9\n"
     ]
    }
   ],
   "source": [
    "smol = smallest([100, 200, 99, 205, 307])\n",
    "print(smol)"
   ]
  },
  {
   "cell_type": "code",
   "execution_count": 84,
   "metadata": {},
   "outputs": [
    {
     "data": {
      "text/plain": [
       "'[10, 20]'"
      ]
     },
     "execution_count": 84,
     "metadata": {},
     "output_type": "execute_result"
    }
   ],
   "source": [
    "str()"
   ]
  },
  {
   "cell_type": "code",
   "execution_count": 56,
   "metadata": {},
   "outputs": [
    {
     "data": {
      "text/plain": [
       "-4"
      ]
     },
     "execution_count": 56,
     "metadata": {},
     "output_type": "execute_result"
    }
   ],
   "source": [
    "int(\"-4\")"
   ]
  },
  {
   "cell_type": "markdown",
   "metadata": {},
   "source": [
    "### Problem 2"
   ]
  },
  {
   "cell_type": "markdown",
   "metadata": {},
   "source": [
    "Given asorted(in ascending order) Python list of distinct integers, return all the indicesisuch that the elements at index i equals i. There may be more than one such index, so the return type is a Python listcontaining all indices that satisfy the criteria.Write two functions for the same problem.   The first function,linearSearchValueIndexEqual,  uses linearsearch, and the second function,binarySearchValueIndexEqual, uses binary search.  The test cases for thetwo functions in Gradescope are the same.When the input list is empty, return an empty list."
   ]
  },
  {
   "cell_type": "code",
   "execution_count": 9,
   "metadata": {},
   "outputs": [],
   "source": [
    "\"\"\"Linear Version\"\"\"\n",
    "def linearSearchValueIndexEqual(plist):\n",
    "    lst = []\n",
    "    for i in range(len(plist)):\n",
    "        if i == plist[i]:\n",
    "            lst.append(plist[i])\n",
    "    return lst"
   ]
  },
  {
   "cell_type": "code",
   "execution_count": 11,
   "metadata": {},
   "outputs": [
    {
     "data": {
      "text/plain": [
       "[1, 2]"
      ]
     },
     "execution_count": 11,
     "metadata": {},
     "output_type": "execute_result"
    }
   ],
   "source": [
    "input1 = [0, 2, 5, 7]\n",
    "input2 = [-5, 1, 2]\n",
    "\n",
    "\n",
    "\n",
    "linearSearchValueIndexEqual(input2)"
   ]
  },
  {
   "cell_type": "code",
   "execution_count": 96,
   "metadata": {},
   "outputs": [],
   "source": [
    "\"\"\"Binary Version\"\"\"\n",
    "def binarySearchValueIndexEqual(plist):\n",
    "    lst = []\n",
    "    for i in range(len(plist)):\n",
    "        item = search_binary(plist, i)\n",
    "        if item == plist[i]:\n",
    "            lst.append(item)\n",
    "    \n",
    "    return lst\n",
    "\n",
    "def search_binary(plist, item):\n",
    "        left = 0\n",
    "        right = len(plist) - 1\n",
    "        while left <= right:\n",
    "            mid = (right - left) // 2 + left\n",
    "            if item == plist[mid]:\n",
    "                return mid\n",
    "            elif item < plist[mid]:\n",
    "                right = mid - 1\n",
    "            else:\n",
    "                left = mid + 1\n",
    "\n",
    "        \n",
    "        \n"
   ]
  },
  {
   "cell_type": "code",
   "execution_count": 89,
   "metadata": {},
   "outputs": [],
   "source": [
    "def search_binary(plist, item):\n",
    "        left = 0\n",
    "        right = len(plist) - 1\n",
    "        while left <= right:\n",
    "            mid = (right - left) // 2 + left\n",
    "            if item == plist[mid]:\n",
    "                return mid\n",
    "            elif item < plist[mid]:\n",
    "                right = mid - 1\n",
    "            else:\n",
    "                left = mid + 1"
   ]
  },
  {
   "cell_type": "code",
   "execution_count": 97,
   "metadata": {},
   "outputs": [
    {
     "data": {
      "text/plain": [
       "[0, 1, 2]"
      ]
     },
     "execution_count": 97,
     "metadata": {},
     "output_type": "execute_result"
    }
   ],
   "source": [
    "binarySearchValueIndexEqual([0, 1, 2, 5, 6, 7])"
   ]
  },
  {
   "cell_type": "code",
   "execution_count": 95,
   "metadata": {},
   "outputs": [
    {
     "data": {
      "text/plain": [
       "4"
      ]
     },
     "execution_count": 95,
     "metadata": {},
     "output_type": "execute_result"
    }
   ],
   "source": [
    "search_binary([0, 1, 2, 5, 6, 7], 6)"
   ]
  },
  {
   "cell_type": "code",
   "execution_count": 8,
   "metadata": {},
   "outputs": [
    {
     "name": "stdout",
     "output_type": "stream",
     "text": [
      "[5, 0, 0, 1, 5, 0]\n"
     ]
    }
   ],
   "source": [
    "def hash(x):\n",
    "    return x % 7\n",
    "lst = [5, 7, 14, 1, 19, 21]\n",
    "hashLst = map(hash, lst)\n",
    "print(list(hashLst))"
   ]
  },
  {
   "cell_type": "markdown",
   "metadata": {},
   "source": [
    "### Problem 4"
   ]
  },
  {
   "cell_type": "markdown",
   "metadata": {},
   "source": [
    "Suppose  you  need  to  write  an  anonymous  letter  and  disguise  your  handwriting.   You  decide  to  cutthe characters you need from a book and paste the characters on a paper to form the letter.  (Note thatwe mean a physical book and a physical letter, not digital.)  Given the content of a bookbookand thecontent of the letterletter(each is reprented as a string), write a functionanonymousLetter(book, letter)that determines if it is possible to write the anonymous letter using the book."
   ]
  },
  {
   "cell_type": "code",
   "execution_count": 68,
   "metadata": {},
   "outputs": [],
   "source": [
    "book1 = \"I am a book. Not a letter.\"\n",
    "book2 = \"abcde\"\n",
    "book3 = \"1 2 2\"\n",
    "letter1 = \"I am a letter.\"\n",
    "letter2 = \"fabcde\""
   ]
  },
  {
   "cell_type": "code",
   "execution_count": 54,
   "metadata": {},
   "outputs": [
    {
     "name": "stdout",
     "output_type": "stream",
     "text": [
      "Counter({' ': 6, 'a': 3, 'o': 3, 't': 3, '.': 2, 'e': 2, 'I': 1, 'm': 1, 'b': 1, 'k': 1, 'N': 1, 'l': 1, 'r': 1})\n",
      "Counter({' ': 3, 'a': 2, 'e': 2, 't': 2, 'I': 1, 'm': 1, 'l': 1, 'r': 1, '.': 1})\n",
      "dict_keys(['I', ' ', 'a', 'm', 'l', 'e', 't', 'r', '.'])\n"
     ]
    }
   ],
   "source": [
    "from collections import defaultdict, Counter\n",
    "Mycount = Counter(book1)\n",
    "print(Mycount)\n",
    "\n",
    "letterCount = Counter(\"I am a letter.\")\n",
    "print(letterCount)\n",
    "print(letterCount.keys())"
   ]
  },
  {
   "cell_type": "code",
   "execution_count": 76,
   "metadata": {},
   "outputs": [],
   "source": [
    "def anonymousLetter(book, letter):\n",
    "    bookCount = Counter(book)\n",
    "    letterCount = Counter(letter)\n",
    "    match = False\n",
    "    for key in letterCount:\n",
    "        if key not in bookCount:\n",
    "            return False\n",
    "        if letterCount[key] <= bookCount[key]:\n",
    "            match = True\n",
    "        else:\n",
    "            return False\n",
    "\n",
    "    if match == True:\n",
    "        return True\n"
   ]
  },
  {
   "cell_type": "code",
   "execution_count": 75,
   "metadata": {},
   "outputs": [
    {
     "data": {
      "text/plain": [
       "True"
      ]
     },
     "execution_count": 75,
     "metadata": {},
     "output_type": "execute_result"
    }
   ],
   "source": [
    "anonymousLetter(book1, letter1)"
   ]
  },
  {
   "cell_type": "code",
   "execution_count": null,
   "metadata": {},
   "outputs": [],
   "source": []
  }
 ],
 "metadata": {
  "kernelspec": {
   "display_name": "Python 3",
   "language": "python",
   "name": "python3"
  },
  "language_info": {
   "codemirror_mode": {
    "name": "ipython",
    "version": 3
   },
   "file_extension": ".py",
   "mimetype": "text/x-python",
   "name": "python",
   "nbconvert_exporter": "python",
   "pygments_lexer": "ipython3",
   "version": "3.8.5"
  }
 },
 "nbformat": 4,
 "nbformat_minor": 4
}
