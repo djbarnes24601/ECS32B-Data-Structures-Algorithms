{
 "cells": [
  {
   "cell_type": "markdown",
   "metadata": {},
   "source": [
    "## Problem 1: Stack2"
   ]
  },
  {
   "cell_type": "raw",
   "metadata": {},
   "source": [
    "Implement a class for stacks (called Stack2) using the Queue class we defined in class.  In other words,the only operations that can be used in your Stack2 class are the ones defined in the Queue class."
   ]
  },
  {
   "cell_type": "code",
   "execution_count": 1,
   "metadata": {},
   "outputs": [],
   "source": [
    "class Queue:\n",
    "    def __init__(self): \n",
    "        self.items = []\n",
    "        \n",
    "    def enqueue(self, item):\n",
    "        self.items.insert(0, item)\n",
    "        \n",
    "    def dequeue(self):\n",
    "        self.items.pop() #pop() default arguement is -1\n",
    "        \n",
    "    def isEmpty(self):\n",
    "        return self.items == []\n",
    "    \n",
    "    def size(self):\n",
    "        return len(self.items)\n",
    "    "
   ]
  },
  {
   "cell_type": "markdown",
   "metadata": {},
   "source": []
  },
  {
   "cell_type": "code",
   "execution_count": 2,
   "metadata": {},
   "outputs": [],
   "source": [
    "class Stack2:\n",
    "    def __init__(self):\n",
    "        self.q1 = Queue()\n",
    "        self.q2 = Queue()\n",
    "        self.buffer = Queue()\n",
    "        \n",
    "    def isEmpty(self):\n",
    "        return self.q1.isEmpty()\n",
    "    \n",
    "    def push(self, item):\n",
    "        if self.q1.isEmpty():\n",
    "            self.q1.enqueue(item)\n",
    "        \n",
    "        else:\n",
    "            q1Size = self.q1.size()\n",
    "            \n",
    "            for i in range(q1Size):\n",
    "                obj = self.q1.items[-1]\n",
    "                self.q2.enqueue(obj)\n",
    "                self.q1.dequeue()\n",
    "            \n",
    "            self.q1.enqueue(item)\n",
    "            \n",
    "            for j in range(q1Size):\n",
    "                obx = self.q2.items[-1]\n",
    "                self.q1.enqueue(obx)\n",
    "                self.q2.dequeue()\n",
    "    \n",
    "    def pop(self):\n",
    "        return self.q1.dequeue()\n",
    "    \n",
    "    def peek(self):\n",
    "        return self.q1.items[-1]\n",
    "    \n",
    "    def size(self):\n",
    "        return len(self.q1.items)\n",
    "    \n",
    "            \n",
    "\n",
    "        \n",
    "        \n",
    "        "
   ]
  },
  {
   "cell_type": "markdown",
   "metadata": {},
   "source": [
    "### Now let's Test all the methods in Stack2"
   ]
  },
  {
   "cell_type": "code",
   "execution_count": 3,
   "metadata": {},
   "outputs": [
    {
     "data": {
      "text/plain": [
       "True"
      ]
     },
     "execution_count": 3,
     "metadata": {},
     "output_type": "execute_result"
    }
   ],
   "source": [
    "s = Stack2()\n",
    "s.isEmpty()"
   ]
  },
  {
   "cell_type": "code",
   "execution_count": 4,
   "metadata": {},
   "outputs": [
    {
     "data": {
      "text/plain": [
       "[5, 10, 8]"
      ]
     },
     "execution_count": 4,
     "metadata": {},
     "output_type": "execute_result"
    }
   ],
   "source": [
    "s.push(5)\n",
    "s.push(10)\n",
    "s.push(8)\n",
    "s.q1.items"
   ]
  },
  {
   "cell_type": "code",
   "execution_count": 5,
   "metadata": {},
   "outputs": [
    {
     "data": {
      "text/plain": [
       "[5, 10]"
      ]
     },
     "execution_count": 5,
     "metadata": {},
     "output_type": "execute_result"
    }
   ],
   "source": [
    "s.pop()\n",
    "s.q1.items"
   ]
  },
  {
   "cell_type": "code",
   "execution_count": 6,
   "metadata": {},
   "outputs": [
    {
     "data": {
      "text/plain": [
       "300"
      ]
     },
     "execution_count": 6,
     "metadata": {},
     "output_type": "execute_result"
    }
   ],
   "source": [
    "s.push(300)\n",
    "s.peek()"
   ]
  },
  {
   "cell_type": "code",
   "execution_count": 7,
   "metadata": {},
   "outputs": [
    {
     "data": {
      "text/plain": [
       "3"
      ]
     },
     "execution_count": 7,
     "metadata": {},
     "output_type": "execute_result"
    }
   ],
   "source": [
    "s.size()\n"
   ]
  },
  {
   "cell_type": "markdown",
   "metadata": {},
   "source": [
    "## Problem 2: transform(lst)"
   ]
  },
  {
   "cell_type": "raw",
   "metadata": {},
   "source": [
    "Given a linked list, transform it into a Python list.  The head of the linked list corresponds to the left ofthe Python list. When the input linked list is empty, the output Python list should be empty as well.Example: When the input linked list is 1→2→3, the output Python list should be  [1,2,3] ."
   ]
  },
  {
   "cell_type": "code",
   "execution_count": 8,
   "metadata": {},
   "outputs": [],
   "source": [
    "class Node:\n",
    "    def __init__(self, data):\n",
    "        self.data = data\n",
    "        self.next = None\n",
    "    \n",
    "    def getData(self):\n",
    "        return self.data\n",
    "    \n",
    "    def getNext(self):\n",
    "        return self.next\n",
    "    \n",
    "    def setData(self, data):\n",
    "        self.data = data\n",
    "    \n",
    "    def setNext(self, node):\n",
    "        self.next = node"
   ]
  },
  {
   "cell_type": "code",
   "execution_count": 9,
   "metadata": {},
   "outputs": [],
   "source": [
    "def printLinkedList(head): \n",
    "    cur = head\n",
    "    while cur: \n",
    "        print(cur.getData(), \"-> \", end = '')\n",
    "        cur = cur.getNext()\n",
    "    \n",
    "    print(\"None\")"
   ]
  },
  {
   "cell_type": "code",
   "execution_count": 10,
   "metadata": {},
   "outputs": [],
   "source": [
    "n1 = Node(1)\n",
    "n2 = Node(2)\n",
    "n3 = Node(3)\n",
    "n4 = Node(4)\n",
    "n5 = Node(5)\n",
    "n1.setNext(n2)\n",
    "n2.setNext(n3)\n",
    "n3.setNext(n4)\n",
    "n4.setNext(n5)"
   ]
  },
  {
   "cell_type": "code",
   "execution_count": 11,
   "metadata": {},
   "outputs": [
    {
     "data": {
      "text/plain": [
       "1"
      ]
     },
     "execution_count": 11,
     "metadata": {},
     "output_type": "execute_result"
    }
   ],
   "source": [
    "n1.getData()"
   ]
  },
  {
   "cell_type": "code",
   "execution_count": 12,
   "metadata": {},
   "outputs": [
    {
     "name": "stdout",
     "output_type": "stream",
     "text": [
      "1 -> 2 -> 3 -> 4 -> 5 -> None\n"
     ]
    }
   ],
   "source": [
    "printLinkedList(n1)"
   ]
  },
  {
   "cell_type": "code",
   "execution_count": 13,
   "metadata": {},
   "outputs": [
    {
     "data": {
      "text/plain": [
       "2"
      ]
     },
     "execution_count": 13,
     "metadata": {},
     "output_type": "execute_result"
    }
   ],
   "source": [
    "s = Node(2)\n",
    "len(list(range(s.getData())))\n"
   ]
  },
  {
   "cell_type": "code",
   "execution_count": 14,
   "metadata": {},
   "outputs": [],
   "source": [
    "def rest(s):\n",
    "    assert s.getData() != None \n",
    "    return s.getNext()"
   ]
  },
  {
   "cell_type": "code",
   "execution_count": 15,
   "metadata": {},
   "outputs": [],
   "source": [
    "def len_link(s):\n",
    "    if not s:\n",
    "        return 0\n",
    "    else:\n",
    "        return 1 + len_link(rest(s))"
   ]
  },
  {
   "cell_type": "code",
   "execution_count": 16,
   "metadata": {},
   "outputs": [
    {
     "data": {
      "text/plain": [
       "5"
      ]
     },
     "execution_count": 16,
     "metadata": {},
     "output_type": "execute_result"
    }
   ],
   "source": [
    "len_link(n1) # Testing helper function len_link()"
   ]
  },
  {
   "cell_type": "code",
   "execution_count": 98,
   "metadata": {},
   "outputs": [],
   "source": [
    "def transform(lst):\n",
    "    if not lst:\n",
    "        return 0\n",
    "    \n",
    "    if len_link(lst) == 1:\n",
    "        return list(str(lst.getData()))\n",
    "    \n",
    "    else:\n",
    "        return list(str(lst.getData())) + transform(rest(lst))\n",
    "    "
   ]
  },
  {
   "cell_type": "code",
   "execution_count": 101,
   "metadata": {},
   "outputs": [],
   "source": [
    "def transform(lst):\n",
    "    lst1 = []\n",
    "    \n",
    "    for i in range(len_link(lst)):\n",
    "        lst1.append(lst.getData())\n",
    "        lst = lst.getNext()\n",
    "    \n",
    "    return lst1\n",
    "    "
   ]
  },
  {
   "cell_type": "code",
   "execution_count": 102,
   "metadata": {},
   "outputs": [
    {
     "data": {
      "text/plain": [
       "[1, 2, 3, 4, 5]"
      ]
     },
     "execution_count": 102,
     "metadata": {},
     "output_type": "execute_result"
    }
   ],
   "source": [
    "transform(n1)"
   ]
  },
  {
   "cell_type": "markdown",
   "metadata": {},
   "source": [
    "### Problem 3: Concatenate(lst1, lst2)"
   ]
  },
  {
   "cell_type": "raw",
   "metadata": {},
   "source": [
    "Given two (possibly empty) linked lists, concatenate them such that the first list comes first.Example: When the first input linked list lst1 is 1→2→3 and the second lst2 is 7→8→9, the outputlinked list is 1→2→3→7→8→9."
   ]
  },
  {
   "cell_type": "code",
   "execution_count": 93,
   "metadata": {},
   "outputs": [],
   "source": [
    "s1 = Node(2)\n",
    "s2 = Node(6)\n",
    "s3 = Node(1)\n",
    "s4 = Node(20)\n",
    "s5 = Node(12)\n",
    "s1.setNext(s2)\n",
    "s3.setNext(s4)\n",
    "s4.setNext(s5)"
   ]
  },
  {
   "cell_type": "code",
   "execution_count": 21,
   "metadata": {},
   "outputs": [],
   "source": [
    "def link(first, rest):\n",
    "    return first.setNext(rest)"
   ]
  },
  {
   "cell_type": "code",
   "execution_count": 22,
   "metadata": {},
   "outputs": [],
   "source": [
    "def first(s):\n",
    "    return s.getData()"
   ]
  },
  {
   "cell_type": "code",
   "execution_count": 97,
   "metadata": {},
   "outputs": [],
   "source": [
    "def concatenate(lst1, lst2):\n",
    "    \n",
    "    if not lst1:\n",
    "        return lst2\n",
    "    \n",
    "    if not lst2:\n",
    "        return lst1\n",
    "    \n",
    "    end = lst1\n",
    "    \n",
    "    while end.next != None:\n",
    "        end = end.next\n",
    "    \n",
    "    end.next = lst2\n",
    "    \n",
    "    return lst1\n"
   ]
  },
  {
   "cell_type": "code",
   "execution_count": 95,
   "metadata": {},
   "outputs": [
    {
     "name": "stdout",
     "output_type": "stream",
     "text": [
      "2 -> 1 -> 20 -> 12 -> None\n",
      "1 -> 20 -> 12 -> None\n"
     ]
    }
   ],
   "source": [
    "LL = concatenate(s1, s3)\n",
    "printLinkedList(s1)\n",
    "printLinkedList(s3)"
   ]
  },
  {
   "cell_type": "code",
   "execution_count": 96,
   "metadata": {},
   "outputs": [
    {
     "name": "stdout",
     "output_type": "stream",
     "text": [
      "2 -> 1 -> 20 -> 12 -> None\n"
     ]
    }
   ],
   "source": [
    "printLinkedList(LL) #concatenate works!"
   ]
  },
  {
   "cell_type": "markdown",
   "metadata": {},
   "source": [
    "### Problem 4: Remove Nodes From Beginning(lst, n)"
   ]
  },
  {
   "cell_type": "raw",
   "metadata": {},
   "source": [
    "Remove the firstnnodes from a (possible empty) linked list.Note: 0≤n≤lst.length()Example: Given an linked list 1→2→3→4→5 andn=3, return the linked list 4→5."
   ]
  },
  {
   "cell_type": "code",
   "execution_count": 26,
   "metadata": {},
   "outputs": [],
   "source": [
    "def getNode(s, index):\n",
    "    if not s:\n",
    "        return None\n",
    "    \n",
    "    cur = s\n",
    "    while(index > 1) and (cur != None):\n",
    "        cur = cur.getNext()\n",
    "        index -= 1\n",
    "    return cur\n",
    "    "
   ]
  },
  {
   "cell_type": "code",
   "execution_count": 27,
   "metadata": {},
   "outputs": [
    {
     "data": {
      "text/plain": [
       "<__main__.Node at 0x15e448fc0d0>"
      ]
     },
     "execution_count": 27,
     "metadata": {},
     "output_type": "execute_result"
    }
   ],
   "source": [
    "getNode(n1, 5) #Testing getNode()"
   ]
  },
  {
   "cell_type": "code",
   "execution_count": 28,
   "metadata": {},
   "outputs": [
    {
     "name": "stdout",
     "output_type": "stream",
     "text": [
      "5 -> 10 -> 15 -> 20 -> 25 -> None\n"
     ]
    }
   ],
   "source": [
    "c1 = Node(5)\n",
    "c2 = Node(10)\n",
    "c3 = Node(15)\n",
    "c4  = Node(20)\n",
    "c5 = Node(25)\n",
    "c1.setNext(c2)\n",
    "c2.setNext(c3)\n",
    "c3.setNext(c4)\n",
    "c4.setNext(c5)\n",
    "printLinkedList(c1)"
   ]
  },
  {
   "cell_type": "code",
   "execution_count": 29,
   "metadata": {},
   "outputs": [],
   "source": [
    "def removeNode(list, i):\n",
    "    if not s:\n",
    "        return None\n",
    "    first = list\n",
    "    rest = getNode(list, i)\n",
    "  # make the first node refer to the third\n",
    "    first.next = rest.next\n",
    "  # separate the second node from the rest of the list\n",
    "    rest.next = None\n",
    "    return rest"
   ]
  },
  {
   "cell_type": "code",
   "execution_count": 30,
   "metadata": {},
   "outputs": [],
   "source": [
    "n5 = removeNode(c1, 2)"
   ]
  },
  {
   "cell_type": "code",
   "execution_count": 31,
   "metadata": {},
   "outputs": [
    {
     "name": "stdout",
     "output_type": "stream",
     "text": [
      "5 -> 15 -> 20 -> 25 -> None\n"
     ]
    }
   ],
   "source": [
    "printLinkedList(c1)"
   ]
  },
  {
   "cell_type": "code",
   "execution_count": 32,
   "metadata": {},
   "outputs": [
    {
     "name": "stdout",
     "output_type": "stream",
     "text": [
      "10 -> None\n"
     ]
    }
   ],
   "source": [
    "printLinkedList(n5)"
   ]
  },
  {
   "cell_type": "code",
   "execution_count": 33,
   "metadata": {},
   "outputs": [],
   "source": [
    "def removeNodesFromBeginning(head, n):\n",
    "    if n <= 0:\n",
    "        return head\n",
    "    curr = head    \n",
    "    while n > 0:\n",
    "        curr = curr.getNext()\n",
    "        n -= 1\n",
    "    return curr\n",
    "    \n",
    "\n"
   ]
  },
  {
   "cell_type": "code",
   "execution_count": 34,
   "metadata": {},
   "outputs": [
    {
     "name": "stdout",
     "output_type": "stream",
     "text": [
      "5 -> 10 -> 15 -> 20 -> 25 -> None\n"
     ]
    }
   ],
   "source": [
    "r1 = Node(5)\n",
    "r2 = Node(10)\n",
    "r3 = Node(15)\n",
    "r4  = Node(20)\n",
    "r5 = Node(25)\n",
    "r1.setNext(r2)\n",
    "r2.setNext(r3)\n",
    "r3.setNext(r4)\n",
    "r4.setNext(r5)\n",
    "printLinkedList(r1)"
   ]
  },
  {
   "cell_type": "code",
   "execution_count": 35,
   "metadata": {},
   "outputs": [],
   "source": [
    "#LList = removeNode(r1, 2)"
   ]
  },
  {
   "cell_type": "code",
   "execution_count": 36,
   "metadata": {},
   "outputs": [
    {
     "name": "stdout",
     "output_type": "stream",
     "text": [
      "5 -> 10 -> 15 -> 20 -> 25 -> None\n"
     ]
    }
   ],
   "source": [
    "#printLinkedList(LList)\n",
    "printLinkedList(r1)"
   ]
  },
  {
   "cell_type": "code",
   "execution_count": 37,
   "metadata": {},
   "outputs": [],
   "source": [
    "LL = removeNodesFromBeginning(r1, 3)"
   ]
  },
  {
   "cell_type": "code",
   "execution_count": 38,
   "metadata": {},
   "outputs": [
    {
     "name": "stdout",
     "output_type": "stream",
     "text": [
      "20 -> 25 -> None\n"
     ]
    }
   ],
   "source": [
    "printLinkedList(LL)"
   ]
  },
  {
   "cell_type": "markdown",
   "metadata": {},
   "source": [
    "### Problem 5: RemoveNodes(lst, i, n)"
   ]
  },
  {
   "cell_type": "raw",
   "metadata": {},
   "source": [
    "Starting from theith node in a (possibly empty) linked list, remove the nextnnodes, not including theith node.•We say the head of the input list is thefirstnode, i.e.,i=1.•Wheni=0, your function should start by removing the head.Note:•n≥0•i≥0•i+n≤lst.length()Example: let  lst  be a linked list 1→2→3→4→5→61.  Wheni=2 andn=3, return the linked list 1→2→6.Explanation: The second node (i=2) is 2. Removing the next three nodes (n=3) means removingnodes 3, 4, and 5. The remaining ones are 1, 2, 6.2.  Wheni=0 andn=3, return the linked list 4→5→6.Explanation: Sincei=0, we remove the first three nodes (n=3) from the beginning of  lst , whichare 1, 2, 3. The remaining ones are 4, 5, 6."
   ]
  },
  {
   "cell_type": "code",
   "execution_count": 39,
   "metadata": {},
   "outputs": [
    {
     "name": "stdout",
     "output_type": "stream",
     "text": [
      "1 -> 2 -> 3 -> 4 -> 5 -> 6 -> None\n"
     ]
    }
   ],
   "source": [
    "x1 = Node(1)\n",
    "x2 = Node(2)\n",
    "x3 = Node(3)\n",
    "x4  = Node(4)\n",
    "x5 = Node(5)\n",
    "x6 = Node(6)\n",
    "x1.setNext(x2)\n",
    "x2.setNext(x3)\n",
    "x3.setNext(x4)\n",
    "x4.setNext(x5)\n",
    "x5.setNext(x6)\n",
    "printLinkedList(x1)"
   ]
  },
  {
   "cell_type": "code",
   "execution_count": 40,
   "metadata": {},
   "outputs": [],
   "source": [
    "def removeNodes(lst, i, n):\n",
    "    j = i\n",
    "    if i != 0:\n",
    "        start = lst\n",
    "        j -= 1\n",
    "    \n",
    "        while j > 0:\n",
    "            start = start.next\n",
    "            j -= 1\n",
    "        \n",
    "        end = start\n",
    "        \n",
    "    else:\n",
    "        end = lst\n",
    "\n",
    "    while n > 0:\n",
    "        end = end.next\n",
    "        n -= 1    \n",
    "    \n",
    "    if i != 0:\n",
    "        start.next = end.next\n",
    "    else:\n",
    "        lst = end\n",
    "    return lst\n",
    "    "
   ]
  },
  {
   "cell_type": "code",
   "execution_count": 41,
   "metadata": {},
   "outputs": [],
   "source": [
    "NewLinkedList = removeNodes(x1, 0, 2) # Testing removeNodes()"
   ]
  },
  {
   "cell_type": "code",
   "execution_count": 42,
   "metadata": {},
   "outputs": [
    {
     "name": "stdout",
     "output_type": "stream",
     "text": [
      "4 -> 5 -> 6 -> None\n"
     ]
    }
   ],
   "source": [
    "printLinkedList(NewLinkedList) #Looks good!"
   ]
  },
  {
   "cell_type": "code",
   "execution_count": null,
   "metadata": {},
   "outputs": [],
   "source": []
  },
  {
   "cell_type": "code",
   "execution_count": null,
   "metadata": {},
   "outputs": [],
   "source": []
  }
 ],
 "metadata": {
  "kernelspec": {
   "display_name": "Python 3",
   "language": "python",
   "name": "python3"
  },
  "language_info": {
   "codemirror_mode": {
    "name": "ipython",
    "version": 3
   },
   "file_extension": ".py",
   "mimetype": "text/x-python",
   "name": "python",
   "nbconvert_exporter": "python",
   "pygments_lexer": "ipython3",
   "version": "3.8.5"
  }
 },
 "nbformat": 4,
 "nbformat_minor": 4
}
